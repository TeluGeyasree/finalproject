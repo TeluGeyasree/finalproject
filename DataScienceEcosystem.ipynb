{
 "cells": [
  {
   "cell_type": "markdown",
   "id": "9be0b422-bfdd-404b-8411-3ba28d182f76",
   "metadata": {},
   "source": [
    " #Data Science Tools and Ecosystem"
   ]
  },
  {
   "cell_type": "markdown",
   "id": "a618c8a4-8d8c-473e-bb57-906e6fe58f2f",
   "metadata": {},
   "source": [
    "In this notebook, Data Science Tools and Ecosystem are summarized"
   ]
  },
  {
   "cell_type": "markdown",
   "id": "dd7175ff-482b-48a8-a7e7-d0d5169a9634",
   "metadata": {},
   "source": [
    "Some of the popular languages that Data Scientists use are:\n",
    "1. python\n",
    "2. R\n",
    "3. SQL\n",
    "4. Julia"
   ]
  },
  {
   "cell_type": "markdown",
   "id": "831bd68b-8b4c-452d-aa82-a749d11c9545",
   "metadata": {},
   "source": [
    "Some of the commonly used libraries used by Data Scientists include:\n",
    "1. Numpy\n",
    "2. pandas\n",
    "3. matplotlib\n",
    "4. scikit-learn\n",
    "5. tensorflow"
   ]
  },
  {
   "cell_type": "markdown",
   "id": "0198b400-4ac8-4989-a2ee-2c9674bc09ad",
   "metadata": {},
   "source": [
    "Data Science Tools:\n",
    "1. jupyter notebook\n",
    "2. Rstudio\n",
    "3. anaconda\n",
    "4. apache spark\n",
    "5. vs code"
   ]
  },
  {
   "cell_type": "markdown",
   "id": "70f8ec9e-a81d-4503-b067-d42cd635334c",
   "metadata": {},
   "source": [
    "###Below are a few examples of evaluating arithmetic expressions in Python"
   ]
  },
  {
   "cell_type": "code",
   "execution_count": 3,
   "id": "902f27ae-c4d3-435e-9816-ccccc8217e12",
   "metadata": {
    "scrolled": true
   },
   "outputs": [
    {
     "data": {
      "text/plain": [
       "17"
      ]
     },
     "execution_count": 3,
     "metadata": {},
     "output_type": "execute_result"
    }
   ],
   "source": [
    "#This a simple arithmetic expression to mutiply then add integers\n",
    "(3 * 4) + 5"
   ]
  },
  {
   "cell_type": "code",
   "execution_count": 4,
   "id": "c1e076e0-c471-4db7-abc9-eca3f371ef32",
   "metadata": {
    "scrolled": true
   },
   "outputs": [
    {
     "data": {
      "text/plain": [
       "33.333333333333336"
      ]
     },
     "execution_count": 4,
     "metadata": {},
     "output_type": "execute_result"
    }
   ],
   "source": [
    "#This will convert 200 minutes to hours by diving by 60\n",
    "200/6"
   ]
  },
  {
   "cell_type": "markdown",
   "id": "aaeae2a2-77a7-4466-a4d0-8229f9ffb187",
   "metadata": {},
   "source": [
    "***objectives***\n",
    "- list popular languages for datascience\n",
    "- identify commonly used libraries\n",
    "- understand datascience tools\n",
    "- perform basic arithmetic operations in python\n",
    "- learn to convert units programatically\n",
    "  "
   ]
  },
  {
   "cell_type": "markdown",
   "id": "75f87f51-ac2d-41f0-8dc1-a794ce629a05",
   "metadata": {},
   "source": [
    "##author\n",
    "Telu Geyasree"
   ]
  },
  {
   "cell_type": "code",
   "execution_count": null,
   "id": "eddff669-6de0-444c-9dee-336817838e1f",
   "metadata": {},
   "outputs": [],
   "source": []
  }
 ],
 "metadata": {
  "kernelspec": {
   "display_name": "Python 3 (ipykernel)",
   "language": "python",
   "name": "python3"
  },
  "language_info": {
   "codemirror_mode": {
    "name": "ipython",
    "version": 3
   },
   "file_extension": ".py",
   "mimetype": "text/x-python",
   "name": "python",
   "nbconvert_exporter": "python",
   "pygments_lexer": "ipython3",
   "version": "3.9.13"
  }
 },
 "nbformat": 4,
 "nbformat_minor": 5
}
